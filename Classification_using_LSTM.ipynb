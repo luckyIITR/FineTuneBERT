{
  "cells": [
    {
      "cell_type": "code",
      "execution_count": 1,
      "metadata": {
        "id": "5NMNGVKujwMR"
      },
      "outputs": [],
      "source": [
        "import numpy as np\n",
        "import pandas as pd\n",
        "import re\n",
        "import nltk\n",
        "from nltk.tokenize import word_tokenize\n",
        "from nltk.corpus import stopwords\n",
        "from nltk.stem import WordNetLemmatizer"
      ]
    },
    {
      "cell_type": "code",
      "execution_count": 2,
      "metadata": {
        "id": "vCdufv8blUPC"
      },
      "outputs": [
        {
          "name": "stderr",
          "output_type": "stream",
          "text": [
            "[nltk_data] Downloading package stopwords to /Users/lucky/nltk_data...\n",
            "[nltk_data]   Unzipping corpora/stopwords.zip.\n",
            "[nltk_data] Downloading package wordnet to /Users/lucky/nltk_data...\n",
            "[nltk_data] Downloading package punkt_tab to /Users/lucky/nltk_data...\n",
            "[nltk_data]   Unzipping tokenizers/punkt_tab.zip.\n"
          ]
        },
        {
          "data": {
            "text/plain": [
              "True"
            ]
          },
          "execution_count": 2,
          "metadata": {},
          "output_type": "execute_result"
        }
      ],
      "source": [
        "nltk.download('stopwords')\n",
        "nltk.download('wordnet')\n",
        "nltk.download('punkt_tab')"
      ]
    },
    {
      "cell_type": "code",
      "execution_count": 3,
      "metadata": {
        "id": "q4oWONhKj050"
      },
      "outputs": [],
      "source": [
        "!pip install datasets -q"
      ]
    },
    {
      "cell_type": "code",
      "execution_count": 4,
      "metadata": {
        "id": "e4roBhbKkHif"
      },
      "outputs": [
        {
          "data": {
            "application/vnd.jupyter.widget-view+json": {
              "model_id": "149de98fc43748f8ac4007626688cec6",
              "version_major": 2,
              "version_minor": 0
            },
            "text/plain": [
              "Downloading builder script:   0%|          | 0.00/1.79k [00:00<?, ?B/s]"
            ]
          },
          "metadata": {},
          "output_type": "display_data"
        },
        {
          "data": {
            "application/vnd.jupyter.widget-view+json": {
              "model_id": "1ac4b8663388412fa804c4488a621a4f",
              "version_major": 2,
              "version_minor": 0
            },
            "text/plain": [
              "Downloading metadata:   0%|          | 0.00/1.05k [00:00<?, ?B/s]"
            ]
          },
          "metadata": {},
          "output_type": "display_data"
        },
        {
          "name": "stdout",
          "output_type": "stream",
          "text": [
            "Downloading and preparing dataset imdb/plain_text (download: 80.23 MiB, generated: 127.02 MiB, post-processed: Unknown size, total: 207.25 MiB) to /Users/lucky/.cache/huggingface/datasets/imdb/plain_text/1.0.0/2fdd8b9bcadd6e7055e742a706876ba43f19faee861df134affd7a3f60fc38a1...\n"
          ]
        },
        {
          "data": {
            "application/vnd.jupyter.widget-view+json": {
              "model_id": "4c2ede4533a8475eb19ff761a79cefd6",
              "version_major": 2,
              "version_minor": 0
            },
            "text/plain": [
              "Downloading data:   0%|          | 0.00/84.1M [00:00<?, ?B/s]"
            ]
          },
          "metadata": {},
          "output_type": "display_data"
        },
        {
          "data": {
            "application/vnd.jupyter.widget-view+json": {
              "model_id": "2f10102d1e6d410a81150d74e2fb1d4f",
              "version_major": 2,
              "version_minor": 0
            },
            "text/plain": [
              "Generating train split:   0%|          | 0/25000 [00:00<?, ? examples/s]"
            ]
          },
          "metadata": {},
          "output_type": "display_data"
        },
        {
          "data": {
            "application/vnd.jupyter.widget-view+json": {
              "model_id": "961a1fe84db44a209f9ba5b21766fbce",
              "version_major": 2,
              "version_minor": 0
            },
            "text/plain": [
              "Generating test split:   0%|          | 0/25000 [00:00<?, ? examples/s]"
            ]
          },
          "metadata": {},
          "output_type": "display_data"
        },
        {
          "data": {
            "application/vnd.jupyter.widget-view+json": {
              "model_id": "40c62b98dc314ba889eb4d2e6b964c33",
              "version_major": 2,
              "version_minor": 0
            },
            "text/plain": [
              "Generating unsupervised split:   0%|          | 0/50000 [00:00<?, ? examples/s]"
            ]
          },
          "metadata": {},
          "output_type": "display_data"
        },
        {
          "name": "stdout",
          "output_type": "stream",
          "text": [
            "Dataset imdb downloaded and prepared to /Users/lucky/.cache/huggingface/datasets/imdb/plain_text/1.0.0/2fdd8b9bcadd6e7055e742a706876ba43f19faee861df134affd7a3f60fc38a1. Subsequent calls will reuse this data.\n"
          ]
        },
        {
          "data": {
            "application/vnd.jupyter.widget-view+json": {
              "model_id": "bfc2c7a1928c49b882675e57887c57cf",
              "version_major": 2,
              "version_minor": 0
            },
            "text/plain": [
              "  0%|          | 0/3 [00:00<?, ?it/s]"
            ]
          },
          "metadata": {},
          "output_type": "display_data"
        },
        {
          "name": "stdout",
          "output_type": "stream",
          "text": [
            "DatasetDict({\n",
            "    train: Dataset({\n",
            "        features: ['text', 'label'],\n",
            "        num_rows: 25000\n",
            "    })\n",
            "    test: Dataset({\n",
            "        features: ['text', 'label'],\n",
            "        num_rows: 25000\n",
            "    })\n",
            "    unsupervised: Dataset({\n",
            "        features: ['text', 'label'],\n",
            "        num_rows: 50000\n",
            "    })\n",
            "})\n"
          ]
        }
      ],
      "source": [
        "from datasets import load_dataset\n",
        "# Load the IMDB dataset\n",
        "dataset = load_dataset(\"imdb\")\n",
        "\n",
        "# Peek at the dataset structure\n",
        "print(dataset)"
      ]
    },
    {
      "cell_type": "markdown",
      "metadata": {
        "id": "QA8UTGxykPaQ"
      },
      "source": [
        "# Data Preprocessing"
      ]
    },
    {
      "cell_type": "code",
      "execution_count": 6,
      "metadata": {
        "id": "Xc0Ff6AFkO2Z"
      },
      "outputs": [],
      "source": [
        "df = pd.concat([dataset['train'].to_pandas(), dataset['test'].to_pandas()])"
      ]
    },
    {
      "cell_type": "code",
      "execution_count": 7,
      "metadata": {
        "id": "DC7AifRkj08r"
      },
      "outputs": [
        {
          "data": {
            "text/html": [
              "<div>\n",
              "<style scoped>\n",
              "    .dataframe tbody tr th:only-of-type {\n",
              "        vertical-align: middle;\n",
              "    }\n",
              "\n",
              "    .dataframe tbody tr th {\n",
              "        vertical-align: top;\n",
              "    }\n",
              "\n",
              "    .dataframe thead th {\n",
              "        text-align: right;\n",
              "    }\n",
              "</style>\n",
              "<table border=\"1\" class=\"dataframe\">\n",
              "  <thead>\n",
              "    <tr style=\"text-align: right;\">\n",
              "      <th></th>\n",
              "      <th>text</th>\n",
              "      <th>label</th>\n",
              "    </tr>\n",
              "  </thead>\n",
              "  <tbody>\n",
              "    <tr>\n",
              "      <th>0</th>\n",
              "      <td>I rented I AM CURIOUS-YELLOW from my video sto...</td>\n",
              "      <td>0</td>\n",
              "    </tr>\n",
              "    <tr>\n",
              "      <th>1</th>\n",
              "      <td>\"I Am Curious: Yellow\" is a risible and preten...</td>\n",
              "      <td>0</td>\n",
              "    </tr>\n",
              "    <tr>\n",
              "      <th>2</th>\n",
              "      <td>If only to avoid making this type of film in t...</td>\n",
              "      <td>0</td>\n",
              "    </tr>\n",
              "    <tr>\n",
              "      <th>3</th>\n",
              "      <td>This film was probably inspired by Godard's Ma...</td>\n",
              "      <td>0</td>\n",
              "    </tr>\n",
              "    <tr>\n",
              "      <th>4</th>\n",
              "      <td>Oh, brother...after hearing about this ridicul...</td>\n",
              "      <td>0</td>\n",
              "    </tr>\n",
              "  </tbody>\n",
              "</table>\n",
              "</div>"
            ],
            "text/plain": [
              "                                                text  label\n",
              "0  I rented I AM CURIOUS-YELLOW from my video sto...      0\n",
              "1  \"I Am Curious: Yellow\" is a risible and preten...      0\n",
              "2  If only to avoid making this type of film in t...      0\n",
              "3  This film was probably inspired by Godard's Ma...      0\n",
              "4  Oh, brother...after hearing about this ridicul...      0"
            ]
          },
          "execution_count": 7,
          "metadata": {},
          "output_type": "execute_result"
        }
      ],
      "source": [
        "df.head()"
      ]
    },
    {
      "cell_type": "code",
      "execution_count": 8,
      "metadata": {
        "id": "Rz7nCLUjj0-V"
      },
      "outputs": [
        {
          "data": {
            "text/plain": [
              "label\n",
              "0    25000\n",
              "1    25000\n",
              "Name: count, dtype: int64"
            ]
          },
          "execution_count": 8,
          "metadata": {},
          "output_type": "execute_result"
        }
      ],
      "source": [
        "df['label'].value_counts()"
      ]
    },
    {
      "cell_type": "code",
      "execution_count": 9,
      "metadata": {
        "id": "3M5AwHEsj1Aj"
      },
      "outputs": [],
      "source": [
        "# Initialize tools\n",
        "stop_words = set(stopwords.words('english'))\n",
        "lemmatizer = WordNetLemmatizer()\n",
        "\n",
        "# Define a text cleaning function\n",
        "def clean_text(text):\n",
        "    text = re.sub(r'http\\S+', '', text)  # Remove URLs\n",
        "    text = re.sub(r'[^a-zA-Z]', ' ', text)  # Remove non-alphabetic characters\n",
        "    text = text.lower()  # Convert to lowercase\n",
        "    tokens = word_tokenize(text)  # Tokenize text\n",
        "    tokens = [word for word in tokens if word not in stop_words]  # Remove stopwords\n",
        "    tokens = [lemmatizer.lemmatize(word, pos='v') for word in tokens]  # Lemmatize tokens (verbs)\n",
        "    tokens = [word for word in tokens if len(word) > 2]  # Keep words longer than 2 characters\n",
        "    cleaned_text = ' '.join(tokens)  # Join tokens back to a single string\n",
        "    return cleaned_text\n",
        "\n",
        "# Apply the cleaning function to the dataset\n",
        "df['text'] = df['text'].apply(clean_text)"
      ]
    },
    {
      "cell_type": "markdown",
      "metadata": {
        "id": "UxXzc9EGpYwS"
      },
      "source": [
        "# Train, Test, and Val Split"
      ]
    },
    {
      "cell_type": "code",
      "execution_count": 10,
      "metadata": {
        "id": "YnxiPJ9YoWGb"
      },
      "outputs": [],
      "source": [
        "from sklearn.model_selection import train_test_split\n",
        "\n",
        "# First split into train+val and test\n",
        "train_val_data, test_data = train_test_split(df, test_size=0.15, random_state=42)\n",
        "\n",
        "# Then split train+val into train and val\n",
        "train_data, val_data = train_test_split(train_val_data, test_size=0.1765, random_state=42)\n",
        "# (0.1765 ≈ 0.15/0.85 to keep 15% val)"
      ]
    },
    {
      "cell_type": "code",
      "execution_count": 11,
      "metadata": {
        "id": "fmRTCwOZkt94"
      },
      "outputs": [
        {
          "data": {
            "text/plain": [
              "(34998, 7502, 7500)"
            ]
          },
          "execution_count": 11,
          "metadata": {},
          "output_type": "execute_result"
        }
      ],
      "source": [
        "len(train_data), len(val_data), len(test_data)"
      ]
    },
    {
      "cell_type": "markdown",
      "metadata": {
        "id": "tBql7_k8sebi"
      },
      "source": [
        "# Text to Numerical Form (Tokenization and Encoding)"
      ]
    },
    {
      "cell_type": "markdown",
      "metadata": {
        "id": "Hf5nWtn5sjpV"
      },
      "source": [
        "##  Tokenization"
      ]
    },
    {
      "cell_type": "code",
      "execution_count": 12,
      "metadata": {
        "id": "3gE89b3kkuAB"
      },
      "outputs": [
        {
          "name": "stderr",
          "output_type": "stream",
          "text": [
            "[nltk_data] Downloading package punkt to /Users/lucky/nltk_data...\n",
            "[nltk_data]   Unzipping tokenizers/punkt.zip.\n"
          ]
        },
        {
          "data": {
            "text/plain": [
              "True"
            ]
          },
          "execution_count": 12,
          "metadata": {},
          "output_type": "execute_result"
        }
      ],
      "source": [
        "from nltk.tokenize import word_tokenize\n",
        "nltk.download('punkt')"
      ]
    },
    {
      "cell_type": "code",
      "execution_count": 13,
      "metadata": {
        "id": "8MakgKiVj1Cv"
      },
      "outputs": [],
      "source": [
        "train_data['text'] = train_data['text'].apply(word_tokenize)\n",
        "test_data['text'] = test_data['text'].apply(word_tokenize)\n",
        "val_data['text'] = val_data['text'].apply(word_tokenize)"
      ]
    },
    {
      "cell_type": "code",
      "execution_count": 14,
      "metadata": {
        "id": "c3NmtXcq3hUl"
      },
      "outputs": [
        {
          "data": {
            "text/plain": [
              "4615     [true, story, darkest, possible, fiction, deri...\n",
              "5274     [straight, video, duffer, another, nail, coffi...\n",
              "7316     [film, take, three, hours, include, commercial...\n",
              "62       [watch, movie, purely, set, film, old, hotel, ...\n",
              "18975    [famous, international, conductor, daniel, dar...\n",
              "                               ...                        \n",
              "15851    [one, landmark, film, need, situate, context, ...\n",
              "16792    [milestone, eastern, european, film, make, out...\n",
              "9689     [boom, garner, something, reputation, heavywei...\n",
              "20542    [always, concept, korean, movies, comedy, dram...\n",
              "5744     [pretty, awful, film, amaze, like, derek, jaco...\n",
              "Name: text, Length: 34998, dtype: object"
            ]
          },
          "execution_count": 14,
          "metadata": {},
          "output_type": "execute_result"
        }
      ],
      "source": [
        "train_data['text']"
      ]
    },
    {
      "cell_type": "markdown",
      "metadata": {
        "id": "D6K9FOTt-HXl"
      },
      "source": [
        "## Text to Sequence"
      ]
    },
    {
      "cell_type": "code",
      "execution_count": 15,
      "metadata": {
        "id": "EThcfwF43ldC"
      },
      "outputs": [],
      "source": [
        "# Step 1: Build Vocabulary (with <UNK>)\n",
        "all_words = set(word for sentence in train_data['text'] for word in sentence)\n",
        "word2idx = {word: idx+2 for idx, word in enumerate(sorted(all_words))}  # Start from 2\n",
        "word2idx['<PAD>'] = 0\n",
        "word2idx['<UNK>'] = 1\n",
        "\n",
        "# Step 2: Function to convert text to sequence\n",
        "def text_to_sequence(tokens, word2idx):\n",
        "    return [word2idx.get(word, word2idx['<UNK>']) for word in tokens]\n",
        "\n",
        "# Convert train texts\n",
        "train_data['sequence'] = train_data['text'].apply(lambda tokens: text_to_sequence(tokens, word2idx))\n",
        "# Convert val texts\n",
        "val_data['sequence'] = val_data['text'].apply(lambda tokens: text_to_sequence(tokens, word2idx))\n",
        "# Convert test texts\n",
        "test_data['sequence'] = test_data['text'].apply(lambda tokens: text_to_sequence(tokens, word2idx))"
      ]
    },
    {
      "cell_type": "code",
      "execution_count": 16,
      "metadata": {
        "id": "FwYifOK49gTs"
      },
      "outputs": [],
      "source": [
        "def pad_or_truncate(seq, max_len, pad_value=0, truncate_from='head'):\n",
        "    if len(seq) > max_len:\n",
        "        if truncate_from == 'head':\n",
        "            return seq[:max_len]    # keep from start\n",
        "        elif truncate_from == 'tail':\n",
        "            return seq[-max_len:]   # keep from end\n",
        "        else:\n",
        "            raise ValueError(\"truncate_from must be 'head' or 'tail'\")\n",
        "    else:\n",
        "        return seq + [pad_value] * (max_len - len(seq))  # pad\n"
      ]
    },
    {
      "cell_type": "code",
      "execution_count": 17,
      "metadata": {
        "id": "CMGk0X7_9gWG"
      },
      "outputs": [],
      "source": [
        "MAX_SEQUENCE_LENGTH = 100\n",
        "train_data['sequence'] = train_data['sequence'].apply(lambda tokens: pad_or_truncate(tokens, MAX_SEQUENCE_LENGTH, 0,'tail'))\n",
        "val_data['sequence'] = val_data['sequence'].apply(lambda tokens: pad_or_truncate(tokens, MAX_SEQUENCE_LENGTH, 0,'tail'))\n",
        "test_data['sequence'] = test_data['sequence'].apply(lambda tokens: pad_or_truncate(tokens, MAX_SEQUENCE_LENGTH, 0,'tail'))"
      ]
    },
    {
      "cell_type": "code",
      "execution_count": 18,
      "metadata": {
        "id": "ez0mLg5p3leq"
      },
      "outputs": [
        {
          "data": {
            "text/html": [
              "<div>\n",
              "<style scoped>\n",
              "    .dataframe tbody tr th:only-of-type {\n",
              "        vertical-align: middle;\n",
              "    }\n",
              "\n",
              "    .dataframe tbody tr th {\n",
              "        vertical-align: top;\n",
              "    }\n",
              "\n",
              "    .dataframe thead th {\n",
              "        text-align: right;\n",
              "    }\n",
              "</style>\n",
              "<table border=\"1\" class=\"dataframe\">\n",
              "  <thead>\n",
              "    <tr style=\"text-align: right;\">\n",
              "      <th></th>\n",
              "      <th>text</th>\n",
              "      <th>label</th>\n",
              "      <th>sequence</th>\n",
              "    </tr>\n",
              "  </thead>\n",
              "  <tbody>\n",
              "    <tr>\n",
              "      <th>4615</th>\n",
              "      <td>[true, story, darkest, possible, fiction, deri...</td>\n",
              "      <td>0</td>\n",
              "      <td>[66766, 61926, 15453, 50357, 22852, 16583, 212...</td>\n",
              "    </tr>\n",
              "    <tr>\n",
              "      <th>5274</th>\n",
              "      <td>[straight, video, duffer, another, nail, coffi...</td>\n",
              "      <td>0</td>\n",
              "      <td>[61977, 69830, 18964, 2523, 43945, 12317, 5451...</td>\n",
              "    </tr>\n",
              "    <tr>\n",
              "      <th>7316</th>\n",
              "      <td>[film, take, three, hours, include, commercial...</td>\n",
              "      <td>0</td>\n",
              "      <td>[62579, 10106, 51089, 8277, 46574, 29644, 5061...</td>\n",
              "    </tr>\n",
              "    <tr>\n",
              "      <th>62</th>\n",
              "      <td>[watch, movie, purely, set, film, old, hotel, ...</td>\n",
              "      <td>0</td>\n",
              "      <td>[70829, 43277, 51814, 57866, 22972, 46185, 303...</td>\n",
              "    </tr>\n",
              "    <tr>\n",
              "      <th>18975</th>\n",
              "      <td>[famous, international, conductor, daniel, dar...</td>\n",
              "      <td>1</td>\n",
              "      <td>[31412, 13431, 69879, 15369, 23068, 43683, 464...</td>\n",
              "    </tr>\n",
              "  </tbody>\n",
              "</table>\n",
              "</div>"
            ],
            "text/plain": [
              "                                                    text  label  \\\n",
              "4615   [true, story, darkest, possible, fiction, deri...      0   \n",
              "5274   [straight, video, duffer, another, nail, coffi...      0   \n",
              "7316   [film, take, three, hours, include, commercial...      0   \n",
              "62     [watch, movie, purely, set, film, old, hotel, ...      0   \n",
              "18975  [famous, international, conductor, daniel, dar...      1   \n",
              "\n",
              "                                                sequence  \n",
              "4615   [66766, 61926, 15453, 50357, 22852, 16583, 212...  \n",
              "5274   [61977, 69830, 18964, 2523, 43945, 12317, 5451...  \n",
              "7316   [62579, 10106, 51089, 8277, 46574, 29644, 5061...  \n",
              "62     [70829, 43277, 51814, 57866, 22972, 46185, 303...  \n",
              "18975  [31412, 13431, 69879, 15369, 23068, 43683, 464...  "
            ]
          },
          "execution_count": 18,
          "metadata": {},
          "output_type": "execute_result"
        }
      ],
      "source": [
        "train_data.head()"
      ]
    },
    {
      "cell_type": "code",
      "execution_count": 19,
      "metadata": {
        "id": "tupyYIXcCEdE"
      },
      "outputs": [],
      "source": [
        "import torch\n",
        "from torch import nn"
      ]
    },
    {
      "cell_type": "code",
      "execution_count": 20,
      "metadata": {
        "id": "1riSK2ozATkk"
      },
      "outputs": [],
      "source": [
        "# Convert to PyTorch tensor\n",
        "X_train = torch.tensor(train_data['sequence'].tolist(), dtype=torch.long)\n",
        "X_val = torch.tensor(val_data['sequence'].tolist(), dtype=torch.long)\n",
        "X_test = torch.tensor(test_data['sequence'].tolist(), dtype=torch.long)"
      ]
    },
    {
      "cell_type": "code",
      "execution_count": 21,
      "metadata": {
        "id": "Bmdki3d-EYQ_"
      },
      "outputs": [],
      "source": [
        "y_train = torch.tensor(train_data['label'].tolist(), dtype=torch.float)\n",
        "y_val = torch.tensor(val_data['label'].tolist(), dtype=torch.float)\n",
        "y_test = torch.tensor(test_data['label'].tolist(), dtype=torch.float)"
      ]
    },
    {
      "cell_type": "code",
      "execution_count": 22,
      "metadata": {
        "id": "Q1dXFv8dATo6"
      },
      "outputs": [
        {
          "data": {
            "text/plain": [
              "(torch.Size([34998, 100]), torch.Size([34998]))"
            ]
          },
          "execution_count": 22,
          "metadata": {},
          "output_type": "execute_result"
        }
      ],
      "source": [
        "X_train.shape, y_train.shape"
      ]
    },
    {
      "cell_type": "markdown",
      "metadata": {
        "id": "6ujCaZ5uE0Ap"
      },
      "source": [
        "## Embedding"
      ]
    },
    {
      "cell_type": "code",
      "execution_count": null,
      "metadata": {
        "id": "DnZtsTszATq-"
      },
      "outputs": [],
      "source": [
        "!wget http://nlp.stanford.edu/data/glove.6B.zip\n",
        "\n",
        "!unzip glove.6B.zip"
      ]
    },
    {
      "cell_type": "code",
      "execution_count": 23,
      "metadata": {
        "id": "QIYmvcAuATtX"
      },
      "outputs": [
        {
          "name": "stdout",
          "output_type": "stream",
          "text": [
            "README.md                       glove.6B.100d.txt\n",
            "classification_using_LSTM.ipynb\n"
          ]
        }
      ],
      "source": [
        "!ls"
      ]
    },
    {
      "cell_type": "code",
      "execution_count": 24,
      "metadata": {
        "id": "zVzp3P05ATvm"
      },
      "outputs": [],
      "source": [
        "GLOVE_EMB = 'glove.6B.100d.txt'\n",
        "EMBEDDING_DIM = 100"
      ]
    },
    {
      "cell_type": "markdown",
      "metadata": {
        "id": "txZ0UimFXTmS"
      },
      "source": [
        "Load GloVe into a Python Dictionary"
      ]
    },
    {
      "cell_type": "code",
      "execution_count": 25,
      "metadata": {
        "id": "sB__uDKZXQHZ"
      },
      "outputs": [
        {
          "name": "stdout",
          "output_type": "stream",
          "text": [
            "Loaded 400000 word vectors.\n"
          ]
        }
      ],
      "source": [
        "embeddings_index = {}\n",
        "\n",
        "with open(GLOVE_EMB, encoding='utf-8') as f:\n",
        "    for line in f:\n",
        "        values = line.split()\n",
        "        word = values[0]\n",
        "        vector = np.asarray(values[1:], dtype='float32')\n",
        "        embeddings_index[word] = vector\n",
        "\n",
        "print(f'Loaded {len(embeddings_index)} word vectors.')"
      ]
    },
    {
      "cell_type": "code",
      "execution_count": 26,
      "metadata": {
        "id": "nnQHrjgpXQOa"
      },
      "outputs": [
        {
          "name": "stdout",
          "output_type": "stream",
          "text": [
            "[-0.038194 -0.24487   0.72812  -0.39961   0.083172  0.043953 -0.39141\n",
            "  0.3344   -0.57545   0.087459  0.28787  -0.06731   0.30906  -0.26384\n",
            " -0.13231  -0.20757   0.33395  -0.33848  -0.31743  -0.48336   0.1464\n",
            " -0.37304   0.34577   0.052041  0.44946  -0.46971   0.02628  -0.54155\n",
            " -0.15518  -0.14107  -0.039722  0.28277   0.14393   0.23464  -0.31021\n",
            "  0.086173  0.20397   0.52624   0.17164  -0.082378 -0.71787  -0.41531\n",
            "  0.20335  -0.12763   0.41367   0.55187   0.57908  -0.33477  -0.36559\n",
            " -0.54857  -0.062892  0.26584   0.30205   0.99775  -0.80481  -3.0243\n",
            "  0.01254  -0.36942   2.2167    0.72201  -0.24978   0.92136   0.034514\n",
            "  0.46745   1.1079   -0.19358  -0.074575  0.23353  -0.052062 -0.22044\n",
            "  0.057162 -0.15806  -0.30798  -0.41625   0.37972   0.15006  -0.53212\n",
            " -0.2055   -1.2526    0.071624  0.70565   0.49744  -0.42063   0.26148\n",
            " -1.538    -0.30223  -0.073438 -0.28312   0.37104  -0.25217   0.016215\n",
            " -0.017099 -0.38984   0.87424  -0.72569  -0.51058  -0.52028  -0.1459\n",
            "  0.8278    0.27062 ]\n"
          ]
        }
      ],
      "source": [
        "print(embeddings_index['the'])"
      ]
    },
    {
      "cell_type": "markdown",
      "metadata": {
        "id": "uDVhfVUuXxZW"
      },
      "source": [
        "Create embedding matrix"
      ]
    },
    {
      "cell_type": "code",
      "execution_count": 27,
      "metadata": {
        "id": "kL72lm0jXQRh"
      },
      "outputs": [],
      "source": [
        "vocab_size = len(word2idx)\n",
        "embedding_matrix = np.zeros((vocab_size, EMBEDDING_DIM))  # initialize all with zeros\n",
        "\n",
        "for word, idx in word2idx.items():\n",
        "    if word in embeddings_index:\n",
        "        embedding_matrix[idx] = np.array(embeddings_index[word])\n",
        "    else:\n",
        "        embedding_matrix[idx] = np.random.normal(scale=0.6, size=(EMBEDDING_DIM,))  # random init for missing words"
      ]
    },
    {
      "cell_type": "code",
      "execution_count": 28,
      "metadata": {
        "id": "bFppu59vXQVl"
      },
      "outputs": [
        {
          "data": {
            "text/plain": [
              "(73534, 100)"
            ]
          },
          "execution_count": 28,
          "metadata": {},
          "output_type": "execute_result"
        }
      ],
      "source": [
        "embedding_matrix.shape"
      ]
    },
    {
      "cell_type": "markdown",
      "metadata": {
        "id": "b4EWH6nP5uwj"
      },
      "source": [
        "### Dataset Class"
      ]
    },
    {
      "cell_type": "code",
      "execution_count": 38,
      "metadata": {
        "id": "8T6lIZd25tFU"
      },
      "outputs": [],
      "source": [
        "from torch.utils.data import Dataset, DataLoader\n",
        "\n",
        "class SimpleDataset(Dataset):\n",
        "    def __init__(self, X, y):\n",
        "        self.X = X\n",
        "        self.y = y\n",
        "\n",
        "    def __getitem__(self, idx):\n",
        "        return self.X[idx], self.y[idx]\n",
        "\n",
        "    def __len__(self):\n",
        "        return len(self.X)\n",
        "\n",
        "train_dataset = SimpleDataset(X_train, y_train)\n",
        "val_dataset = SimpleDataset(X_val, y_val)\n",
        "test_dataset = SimpleDataset(X_test, y_test)"
      ]
    },
    {
      "cell_type": "code",
      "execution_count": 44,
      "metadata": {
        "id": "FArEO08T55hm"
      },
      "outputs": [],
      "source": [
        "train_loader = DataLoader(\n",
        "    train_dataset,\n",
        "    batch_size=32,\n",
        "    shuffle=True,\n",
        "    # num_workers=2,\n",
        "    # pin_memory=True\n",
        ")\n",
        "\n",
        "val_loader = DataLoader(\n",
        "    val_dataset,\n",
        "    batch_size=32,\n",
        "    shuffle=False,\n",
        "    # num_workers=2,\n",
        "    # pin_memory=True\n",
        ")\n",
        "\n",
        "test_loader = DataLoader(\n",
        "    test_dataset,\n",
        "    batch_size=32,\n",
        "    shuffle=False,\n",
        "    # num_workers=2,\n",
        "    # pin_memory=True\n",
        ")"
      ]
    },
    {
      "cell_type": "code",
      "execution_count": 45,
      "metadata": {
        "id": "C8jmuaXlX--p"
      },
      "outputs": [],
      "source": [
        "class LSTMClassifier(nn.Module):\n",
        "    def __init__(self, embedding_matrix, hidden_dim, output_dim):\n",
        "        super(LSTMClassifier, self).__init__()\n",
        "\n",
        "        self.embedding = nn.Embedding.from_pretrained(torch.FloatTensor(embedding_matrix), freeze=True)\n",
        "        self.lstm = nn.LSTM(EMBEDDING_DIM, hidden_dim, batch_first=True)\n",
        "        self.fc = nn.Linear(hidden_dim, output_dim)\n",
        "\n",
        "    def forward(self, x):\n",
        "        embedded = self.embedding(x) # B * T * C\n",
        "        output, (hidden, cell) = self.lstm(embedded) # B * T * hidden_dim\n",
        "        hidden = hidden[-1,:,:]  # take the last layer's hidden state\n",
        "        out = self.fc(hidden)\n",
        "        return out\n",
        "\n",
        "model = LSTMClassifier(embedding_matrix, hidden_dim=64, output_dim=1)"
      ]
    },
    {
      "cell_type": "code",
      "execution_count": 46,
      "metadata": {
        "id": "YA3EyImUX_Ct"
      },
      "outputs": [
        {
          "data": {
            "text/plain": [
              "LSTMClassifier(\n",
              "  (embedding): Embedding(73534, 100)\n",
              "  (lstm): LSTM(100, 64, batch_first=True)\n",
              "  (fc): Linear(in_features=64, out_features=1, bias=True)\n",
              ")"
            ]
          },
          "execution_count": 46,
          "metadata": {},
          "output_type": "execute_result"
        }
      ],
      "source": [
        "model"
      ]
    },
    {
      "cell_type": "code",
      "execution_count": 47,
      "metadata": {
        "id": "y30jLUINX_D2"
      },
      "outputs": [],
      "source": [
        "import torch.optim as optim\n",
        "\n",
        "criterion = nn.BCEWithLogitsLoss()  # Binary classification\n",
        "optimizer = optim.Adam(model.parameters(), lr=1e-3)"
      ]
    },
    {
      "cell_type": "code",
      "execution_count": 48,
      "metadata": {
        "id": "0wrIokrhY3N1"
      },
      "outputs": [
        {
          "name": "stdout",
          "output_type": "stream",
          "text": [
            "Epoch 1: Train Loss = 0.6207, Val Loss = 0.4653\n",
            "Epoch 2: Train Loss = 0.4211, Val Loss = 0.3763\n",
            "Epoch 3: Train Loss = 0.3572, Val Loss = 0.3480\n"
          ]
        }
      ],
      "source": [
        "num_epochs = 3\n",
        "device = 'cpu'\n",
        "for epoch in range(num_epochs):\n",
        "    # ============ Training ============\n",
        "    model.train()\n",
        "    train_loss = 0\n",
        "    total_train_samples = 0\n",
        "\n",
        "    for X_batch, y_batch in train_loader:\n",
        "        X_batch, y_batch = X_batch.to(device), y_batch.to(device)\n",
        "\n",
        "        optimizer.zero_grad()\n",
        "        preds = model(X_batch)\n",
        "        preds = preds.squeeze(1)\n",
        "        loss = criterion(preds, y_batch)\n",
        "        loss.backward()\n",
        "        optimizer.step()\n",
        "\n",
        "        train_loss += loss.item() * X_batch.size(0)  # multiply by batch size\n",
        "        total_train_samples += X_batch.size(0)\n",
        "\n",
        "    avg_train_loss = train_loss / total_train_samples\n",
        "\n",
        "    # ============ Validation ============\n",
        "    model.eval()\n",
        "    val_loss = 0\n",
        "    total_val_samples = 0\n",
        "\n",
        "    with torch.no_grad():\n",
        "        for X_batch, y_batch in val_loader:\n",
        "            X_batch, y_batch = X_batch.to(device), y_batch.to(device)\n",
        "            preds = model(X_batch)\n",
        "            preds = preds.squeeze(1)\n",
        "            loss = criterion(preds, y_batch)\n",
        "\n",
        "            val_loss += loss.item() * X_batch.size(0)  # multiply by batch size\n",
        "            total_val_samples += X_batch.size(0)\n",
        "\n",
        "    avg_val_loss = val_loss / total_val_samples\n",
        "\n",
        "    # ============ Logging ============\n",
        "    print(f\"Epoch {epoch+1}: Train Loss = {avg_train_loss:.4f}, Val Loss = {avg_val_loss:.4f}\")\n"
      ]
    },
    {
      "cell_type": "code",
      "execution_count": 49,
      "metadata": {
        "id": "et6EKbIVY3X7"
      },
      "outputs": [],
      "source": [
        "import torch.nn.functional as F\n",
        "\n",
        "def calculate_accuracy_binary(model, X_test, y_test, threshold=0.5):\n",
        "    \"\"\"\n",
        "    Binary classification accuracy calculation.\n",
        "    \"\"\"\n",
        "    model.eval()\n",
        "    with torch.no_grad():\n",
        "        outputs = model(X_test)  # shape: (batch_size, 1) or (batch_size,)\n",
        "\n",
        "        # Apply sigmoid\n",
        "        probs = torch.sigmoid(outputs)\n",
        "\n",
        "        # Apply threshold\n",
        "        preds = (probs >= threshold).long().view(-1)  # flatten if needed\n",
        "\n",
        "        correct = (preds == y_test).sum().item()\n",
        "        total = y_test.size(0)\n",
        "\n",
        "        accuracy = correct / total\n",
        "\n",
        "    return accuracy"
      ]
    },
    {
      "cell_type": "code",
      "execution_count": 50,
      "metadata": {
        "id": "uZVNa0wgY3dg"
      },
      "outputs": [
        {
          "data": {
            "text/plain": [
              "(0.8589633693353906, 0.8481738203145828)"
            ]
          },
          "execution_count": 50,
          "metadata": {},
          "output_type": "execute_result"
        }
      ],
      "source": [
        "calculate_accuracy_binary(model, X_train, y_train), calculate_accuracy_binary(model, X_val, y_val)"
      ]
    },
    {
      "cell_type": "code",
      "execution_count": 51,
      "metadata": {
        "id": "Py6HnPmoY3gR"
      },
      "outputs": [
        {
          "data": {
            "text/plain": [
              "0.8489333333333333"
            ]
          },
          "execution_count": 51,
          "metadata": {},
          "output_type": "execute_result"
        }
      ],
      "source": [
        "calculate_accuracy_binary(model, X_test, y_test)"
      ]
    }
  ],
  "metadata": {
    "colab": {
      "provenance": []
    },
    "kernelspec": {
      "display_name": "dev",
      "language": "python",
      "name": "python3"
    },
    "language_info": {
      "codemirror_mode": {
        "name": "ipython",
        "version": 3
      },
      "file_extension": ".py",
      "mimetype": "text/x-python",
      "name": "python",
      "nbconvert_exporter": "python",
      "pygments_lexer": "ipython3",
      "version": "3.11.11"
    }
  },
  "nbformat": 4,
  "nbformat_minor": 0
}
